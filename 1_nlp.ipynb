{
  "nbformat": 4,
  "nbformat_minor": 0,
  "metadata": {
    "colab": {
      "provenance": [],
      "authorship_tag": "ABX9TyM23fNnD7QvasLoXce1XA2Q",
      "include_colab_link": true
    },
    "kernelspec": {
      "name": "python3",
      "display_name": "Python 3"
    },
    "language_info": {
      "name": "python"
    }
  },
  "cells": [
    {
      "cell_type": "markdown",
      "metadata": {
        "id": "view-in-github",
        "colab_type": "text"
      },
      "source": [
        "<a href=\"https://colab.research.google.com/github/Elwing-Chou/kmu1202/blob/main/1_nlp.ipynb\" target=\"_parent\"><img src=\"https://colab.research.google.com/assets/colab-badge.svg\" alt=\"Open In Colab\"/></a>"
      ]
    },
    {
      "cell_type": "code",
      "execution_count": 3,
      "metadata": {
        "id": "gC7JHRNiMgbz"
      },
      "outputs": [],
      "source": [
        "news = \"\"\"台灣老街文化遠近馳名，成為觀光客必去景點之一，尤其是北部的淡水老街、九份老街，到了旅遊旺季人潮更是絡繹不絕，不過根據交通部觀光署統計，今年獲奪最多訪客參訪的老街不是上述兩地，而是位於高雄的旗山老街，截至今年9月，已累積超過610萬人朝聖，位居全國第一成為最受歡迎老街。\n",
        "\n",
        "觀光署公告「遊憩景點人數統計」資料顯示，自今年1月至9月的統計累加，獲得最多人造訪的為旗山老街，造訪人次高達613萬人，第二名為大溪老街，累積造訪人數為518萬人，第三、四名分別為淡水老街以及九份老街，累積造訪人數為334萬及306萬，而最少人造訪的為鶯歌老街，累積人數56萬。\n",
        "\n",
        "身為冠軍的旗山老街有何魅力？查詢旗山老街的Google評論後發現，多數人稱讚適合一日遊，且不僅販售各式美食小吃，也研發出旗山特產「香蕉」的特色料理，附近還有許多廟宇可參拜，且特別的是，該地建築帶有巴洛克、日式以及閩式多種風情，建構出中西融合的特殊地貌，因此成功吸引大批遊客參訪。\"\"\""
      ]
    },
    {
      "cell_type": "code",
      "source": [
        "!pip install jieba"
      ],
      "metadata": {
        "id": "PSmxwvdBRlmy"
      },
      "execution_count": null,
      "outputs": []
    },
    {
      "cell_type": "code",
      "source": [
        "import jieba\n",
        "\" \".join(jieba.cut(news))"
      ],
      "metadata": {
        "id": "ik9STyrYR4SN"
      },
      "execution_count": null,
      "outputs": []
    },
    {
      "cell_type": "code",
      "source": [
        "import jieba.analyse\n",
        "jieba.analyse.extract_tags(news)\n",
        "jieba.analyse.extract_tags(news, allowPOS=[\"nr\", \"ns\"])"
      ],
      "metadata": {
        "colab": {
          "base_uri": "https://localhost:8080/"
        },
        "id": "zMyjsLocWWCl",
        "outputId": "ffdc5cee-13d1-485b-f865-cde0d8440d41"
      },
      "execution_count": 10,
      "outputs": [
        {
          "output_type": "execute_result",
          "data": {
            "text/plain": [
              "['台灣', '於高雄', '朝聖', '高達', '大溪', '巴洛克', '中西']"
            ]
          },
          "metadata": {},
          "execution_count": 10
        }
      ]
    }
  ]
}