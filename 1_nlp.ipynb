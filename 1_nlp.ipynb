{
  "nbformat": 4,
  "nbformat_minor": 0,
  "metadata": {
    "colab": {
      "provenance": [],
      "authorship_tag": "ABX9TyMY6+aKQTImMiYT+fjecgfT",
      "include_colab_link": true
    },
    "kernelspec": {
      "name": "python3",
      "display_name": "Python 3"
    },
    "language_info": {
      "name": "python"
    }
  },
  "cells": [
    {
      "cell_type": "markdown",
      "metadata": {
        "id": "view-in-github",
        "colab_type": "text"
      },
      "source": [
        "<a href=\"https://colab.research.google.com/github/Elwing-Chou/kmu1202/blob/main/1_nlp.ipynb\" target=\"_parent\"><img src=\"https://colab.research.google.com/assets/colab-badge.svg\" alt=\"Open In Colab\"/></a>"
      ]
    },
    {
      "cell_type": "code",
      "execution_count": 3,
      "metadata": {
        "id": "gC7JHRNiMgbz"
      },
      "outputs": [],
      "source": [
        "news = \"\"\"台灣老街文化遠近馳名，成為觀光客必去景點之一，尤其是北部的淡水老街、九份老街，到了旅遊旺季人潮更是絡繹不絕，不過根據交通部觀光署統計，今年獲奪最多訪客參訪的老街不是上述兩地，而是位於高雄的旗山老街，截至今年9月，已累積超過610萬人朝聖，位居全國第一成為最受歡迎老街。\n",
        "\n",
        "觀光署公告「遊憩景點人數統計」資料顯示，自今年1月至9月的統計累加，獲得最多人造訪的為旗山老街，造訪人次高達613萬人，第二名為大溪老街，累積造訪人數為518萬人，第三、四名分別為淡水老街以及九份老街，累積造訪人數為334萬及306萬，而最少人造訪的為鶯歌老街，累積人數56萬。\n",
        "\n",
        "身為冠軍的旗山老街有何魅力？查詢旗山老街的Google評論後發現，多數人稱讚適合一日遊，且不僅販售各式美食小吃，也研發出旗山特產「香蕉」的特色料理，附近還有許多廟宇可參拜，且特別的是，該地建築帶有巴洛克、日式以及閩式多種風情，建構出中西融合的特殊地貌，因此成功吸引大批遊客參訪。\"\"\""
      ]
    },
    {
      "cell_type": "code",
      "source": [
        "!pip install jieba"
      ],
      "metadata": {
        "id": "PSmxwvdBRlmy"
      },
      "execution_count": null,
      "outputs": []
    },
    {
      "cell_type": "code",
      "source": [
        "import urllib.request as req\n",
        "url = \"https://github.com/fxsjy/jieba/raw/master/extra_dict/dict.txt.big\"\n",
        "req.urlretrieve(url, \"dict.big\")"
      ],
      "metadata": {
        "id": "AdOVvOjGag4z"
      },
      "execution_count": null,
      "outputs": []
    },
    {
      "cell_type": "code",
      "source": [
        "import jieba\n",
        "jieba.set_dictionary(\"dict.big\")\n",
        "\" \".join(jieba.cut(news))"
      ],
      "metadata": {
        "colab": {
          "base_uri": "https://localhost:8080/",
          "height": 330
        },
        "id": "ik9STyrYR4SN",
        "outputId": "c4fdd69e-4624-41b4-a623-4d292f30a365"
      },
      "execution_count": 13,
      "outputs": [
        {
          "output_type": "stream",
          "name": "stderr",
          "text": [
            "Building prefix dict from /content/dict.big ...\n",
            "DEBUG:jieba:Building prefix dict from /content/dict.big ...\n",
            "Dumping model to file cache /tmp/jieba.u07306b11e64fa1786267fcd71f361dde.cache\n",
            "DEBUG:jieba:Dumping model to file cache /tmp/jieba.u07306b11e64fa1786267fcd71f361dde.cache\n",
            "Loading model cost 0.983 seconds.\n",
            "DEBUG:jieba:Loading model cost 0.983 seconds.\n",
            "Prefix dict has been built successfully.\n",
            "DEBUG:jieba:Prefix dict has been built successfully.\n"
          ]
        },
        {
          "output_type": "execute_result",
          "data": {
            "text/plain": [
              "'台灣 老街 文化 遠近馳名 ， 成為 觀光客 必去 景點 之一 ， 尤其 是 北部 的 淡水 老街 、 九份 老街 ， 到 了 旅遊 旺季 人潮 更是 絡繹不絕 ， 不過 根據 交通部 觀光 署 統計 ， 今年 獲奪 最多 訪客 參訪 的 老街 不是 上述 兩地 ， 而是 位於 高雄 的 旗山 老街 ， 截至 今年 9 月 ， 已 累積 超過 610 萬人 朝聖 ， 位居 全國 第一 成為 最 受歡迎 老街 。 \\n \\n 觀光 署 公告 「 遊憩 景點 人數 統計 」 資料 顯示 ， 自 今年 1 月 至 9 月 的 統計 累加 ， 獲得 最多人 造訪 的 為 旗山 老街 ， 造訪 人次 高達 613 萬人 ， 第二名 為 大溪 老街 ， 累積 造訪 人數 為 518 萬人 ， 第三 、 四名 分別 為 淡水 老街 以及 九份 老街 ， 累積 造訪 人數 為 334 萬及 306 萬 ， 而 最少 人 造訪 的 為 鶯歌 老街 ， 累積 人數 56 萬 。 \\n \\n 身為 冠軍 的 旗山 老街 有何 魅力 ？ 查詢 旗山 老街 的 Google 評論 後 發現 ， 多數 人 稱讚 適合 一日遊 ， 且 不僅 販售 各式 美食 小吃 ， 也 研發 出 旗山 特產 「 香蕉 」 的 特色 料理 ， 附近 還有 許多 廟宇 可 參拜 ， 且 特別 的 是 ， 該地 建築 帶有 巴洛克 、 日式 以及 閩式 多種 風情 ， 建構 出 中西 融合 的 特殊 地貌 ， 因此 成功 吸引 大批 遊客 參訪 。'"
            ],
            "application/vnd.google.colaboratory.intrinsic+json": {
              "type": "string"
            }
          },
          "metadata": {},
          "execution_count": 13
        }
      ]
    },
    {
      "cell_type": "code",
      "source": [
        "import jieba.analyse\n",
        "jieba.analyse.extract_tags(news)\n",
        "jieba.analyse.extract_tags(news, allowPOS=[\"nr\", \"ns\"])"
      ],
      "metadata": {
        "colab": {
          "base_uri": "https://localhost:8080/"
        },
        "id": "zMyjsLocWWCl",
        "outputId": "45703e28-9dc0-4c1f-c855-da48a43a70f8"
      },
      "execution_count": 14,
      "outputs": [
        {
          "output_type": "execute_result",
          "data": {
            "text/plain": [
              "['台灣', '大溪', '巴洛克', '高雄', '中西']"
            ]
          },
          "metadata": {},
          "execution_count": 14
        }
      ]
    }
  ]
}